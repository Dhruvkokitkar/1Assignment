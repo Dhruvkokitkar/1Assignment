{
 "cells": [
  {
   "cell_type": "markdown",
   "id": "e0ea77aa-fb50-40ef-bfbe-ffe6e30ba37d",
   "metadata": {},
   "source": [
    "1) Guido Van Rossum\n",
    "\n",
    "2) Python is a multi-paradigm programming language.\n",
    "\n",
    "3) Yes, Python is a case-sensitive language, i.e., it treats uppercase and lowercase characters differently. This applies to identifiers too. \n",
    "\n",
    "4) .py is correct extesnsion of Python file.\n",
    "\n",
    "5) Python Code is both compiled and interpreted, first the code is compiled then interpreted line by line.\n",
    "\n",
    "5) You must avoid using the same name with different cases while naming identifiers.\n",
    "\n",
    "6) A Python program is constructed from code blocks. A block is a piece of Python program text that is executed as a unit. The following are blocks: a module, a function body, and a class definition.\n",
    "\n",
    "7) ' # \" is used for single line command.\n",
    "\n",
    "8) \"python --version\" is used to check python version.\n",
    "\n",
    "9) Python supports the creation of anonymous functions at runtime, using a construct called \n",
    "\n",
    "10) pip stands for preferred installer program, it is the standard package manager for Python. It allows you to install and manage additional packages that are not part of the Python standard library.\n",
    "\n",
    "11) print, int, string, return, char, bool, float, etc are varipus python inbuilt functions.\n",
    "\n",
    "12) 79 characters is the maximum possible length of an identifier in Python.\n",
    "\n",
    "13) Python is open-source, ease of coding, large global community, artificial intelligence, data science etc are various benefits of Python.\n",
    "\n",
    "14) Memory management in Python involves a private heap containing all Python objects and data structures. The management of this private heap is ensured internally by the Python memory manager.\n",
    "\n",
    "15) Right-clicking This PC and going to Properties. Clicking on the Advanced system settings in the menu on the left. Clicking on the Environment Variables button o​n the bottom right. In the System variables section, selecting the Path variable and clicking on Edit.\n",
    "\n",
    "16) Yes, identation is required in Python."
   ]
  }
 ],
 "metadata": {
  "kernelspec": {
   "display_name": "Python 3 (ipykernel)",
   "language": "python",
   "name": "python3"
  },
  "language_info": {
   "codemirror_mode": {
    "name": "ipython",
    "version": 3
   },
   "file_extension": ".py",
   "mimetype": "text/x-python",
   "name": "python",
   "nbconvert_exporter": "python",
   "pygments_lexer": "ipython3",
   "version": "3.10.8"
  }
 },
 "nbformat": 4,
 "nbformat_minor": 5
}
